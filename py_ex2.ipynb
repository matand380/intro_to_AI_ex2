{
 "cells": [
  {
   "cell_type": "code",
   "execution_count": 33,
   "metadata": {
    "ExecuteTime": {
     "end_time": "2024-04-17T08:19:06.983106Z",
     "start_time": "2024-04-17T08:19:06.980629Z"
    }
   },
   "outputs": [],
   "source": [
    "import pandas as pd\n",
    "import numpy as np\n",
    "from DecisionTreeClassifier import *\n",
    "from NaiveBayes import *"
   ]
  },
  {
   "attachments": {},
   "cell_type": "markdown",
   "metadata": {},
   "source": [
    "# read data"
   ]
  },
  {
   "cell_type": "code",
   "execution_count": 34,
   "metadata": {
    "ExecuteTime": {
     "end_time": "2024-04-17T08:19:07.013369Z",
     "start_time": "2024-04-17T08:19:07.007524Z"
    }
   },
   "outputs": [
    {
     "data": {
      "text/plain": "  pclass    age     sex survived\n0    2nd  adult    male       no\n1    2nd  adult    male       no\n2    2nd  adult    male       no\n3    3rd  adult  female       no\n4    3rd  adult    male       no",
      "text/html": "<div>\n<style scoped>\n    .dataframe tbody tr th:only-of-type {\n        vertical-align: middle;\n    }\n\n    .dataframe tbody tr th {\n        vertical-align: top;\n    }\n\n    .dataframe thead th {\n        text-align: right;\n    }\n</style>\n<table border=\"1\" class=\"dataframe\">\n  <thead>\n    <tr style=\"text-align: right;\">\n      <th></th>\n      <th>pclass</th>\n      <th>age</th>\n      <th>sex</th>\n      <th>survived</th>\n    </tr>\n  </thead>\n  <tbody>\n    <tr>\n      <th>0</th>\n      <td>2nd</td>\n      <td>adult</td>\n      <td>male</td>\n      <td>no</td>\n    </tr>\n    <tr>\n      <th>1</th>\n      <td>2nd</td>\n      <td>adult</td>\n      <td>male</td>\n      <td>no</td>\n    </tr>\n    <tr>\n      <th>2</th>\n      <td>2nd</td>\n      <td>adult</td>\n      <td>male</td>\n      <td>no</td>\n    </tr>\n    <tr>\n      <th>3</th>\n      <td>3rd</td>\n      <td>adult</td>\n      <td>female</td>\n      <td>no</td>\n    </tr>\n    <tr>\n      <th>4</th>\n      <td>3rd</td>\n      <td>adult</td>\n      <td>male</td>\n      <td>no</td>\n    </tr>\n  </tbody>\n</table>\n</div>"
     },
     "execution_count": 34,
     "metadata": {},
     "output_type": "execute_result"
    }
   ],
   "source": [
    "df_train = pd.read_csv('train.txt', delimiter='\\t')\n",
    "X_train = df_train.drop(columns=['survived'])\n",
    "y_train = df_train['survived']\n",
    "df_train.head()"
   ]
  },
  {
   "cell_type": "code",
   "execution_count": 35,
   "metadata": {
    "ExecuteTime": {
     "end_time": "2024-04-17T08:19:07.020208Z",
     "start_time": "2024-04-17T08:19:07.014351Z"
    }
   },
   "outputs": [
    {
     "data": {
      "text/plain": "  pclass    age   sex survived\n0   crew  adult  male       no\n1   crew  adult  male      yes\n2   crew  adult  male       no\n3    3rd  adult  male       no\n4    2nd  adult  male       no",
      "text/html": "<div>\n<style scoped>\n    .dataframe tbody tr th:only-of-type {\n        vertical-align: middle;\n    }\n\n    .dataframe tbody tr th {\n        vertical-align: top;\n    }\n\n    .dataframe thead th {\n        text-align: right;\n    }\n</style>\n<table border=\"1\" class=\"dataframe\">\n  <thead>\n    <tr style=\"text-align: right;\">\n      <th></th>\n      <th>pclass</th>\n      <th>age</th>\n      <th>sex</th>\n      <th>survived</th>\n    </tr>\n  </thead>\n  <tbody>\n    <tr>\n      <th>0</th>\n      <td>crew</td>\n      <td>adult</td>\n      <td>male</td>\n      <td>no</td>\n    </tr>\n    <tr>\n      <th>1</th>\n      <td>crew</td>\n      <td>adult</td>\n      <td>male</td>\n      <td>yes</td>\n    </tr>\n    <tr>\n      <th>2</th>\n      <td>crew</td>\n      <td>adult</td>\n      <td>male</td>\n      <td>no</td>\n    </tr>\n    <tr>\n      <th>3</th>\n      <td>3rd</td>\n      <td>adult</td>\n      <td>male</td>\n      <td>no</td>\n    </tr>\n    <tr>\n      <th>4</th>\n      <td>2nd</td>\n      <td>adult</td>\n      <td>male</td>\n      <td>no</td>\n    </tr>\n  </tbody>\n</table>\n</div>"
     },
     "execution_count": 35,
     "metadata": {},
     "output_type": "execute_result"
    }
   ],
   "source": [
    "df_test = pd.read_csv('test.txt', delimiter='\\t')\n",
    "X_test = df_test.drop(columns=['survived'])\n",
    "y_test = df_test['survived']\n",
    "df_test.head()"
   ]
  },
  {
   "cell_type": "markdown",
   "source": [
    "# run DecisionTreeClassifier model"
   ],
   "metadata": {
    "collapsed": false
   }
  },
  {
   "cell_type": "code",
   "execution_count": 36,
   "metadata": {
    "ExecuteTime": {
     "end_time": "2024-04-17T08:19:07.047766Z",
     "start_time": "2024-04-17T08:19:07.020870Z"
    }
   },
   "outputs": [
    {
     "name": "stdout",
     "output_type": "stream",
     "text": [
      " | sex = female\n",
      "\t | pclass = 1st : yes\n",
      "\t | pclass = 2nd\n",
      "\t\t | age = adult : yes\n",
      "\t\t | age = child : yes\n",
      "\t | pclass = 3rd : no\n",
      "\t | pclass = crew : yes\n",
      " | sex = male : no\n"
     ]
    }
   ],
   "source": [
    "# Initialize and fit the decision tree classifier\n",
    "tree_classifier = DecisionTreeClassifier(threshold_info_gains= 0.02)\n",
    "tree_classifier.fit(X_train, y_train)\n",
    "\n",
    "# Print the decision tree\n",
    "tree_classifier.print_tree()\n"
   ]
  },
  {
   "cell_type": "code",
   "execution_count": 37,
   "metadata": {
    "ExecuteTime": {
     "end_time": "2024-04-17T08:19:07.053291Z",
     "start_time": "2024-04-17T08:19:07.049476Z"
    }
   },
   "outputs": [
    {
     "name": "stdout",
     "output_type": "stream",
     "text": [
      "['no' 'no' 'no' 'no' 'no' 'no' 'no' 'no' 'no' 'no' 'no' 'no' 'no' 'no'\n",
      " 'no' 'no' 'no' 'yes' 'no' 'no' 'no' 'yes' 'no' 'yes']\n",
      "Accuracy: 0.875\n"
     ]
    }
   ],
   "source": [
    "# Make predictions on a test set\n",
    "predictions_tree = tree_classifier.predict(X_test)\n",
    "\n",
    "# Calculate accuracy\n",
    "accuracy_tree = tree_classifier.calculate_accuracy(X_test, y_test)\n",
    "print(predictions_tree)\n",
    "print(f\"Accuracy: {accuracy_tree}\")"
   ]
  },
  {
   "attachments": {},
   "cell_type": "markdown",
   "metadata": {},
   "source": [
    "# save Tree"
   ]
  },
  {
   "cell_type": "code",
   "execution_count": 38,
   "metadata": {
    "ExecuteTime": {
     "end_time": "2024-04-17T08:19:07.057338Z",
     "start_time": "2024-04-17T08:19:07.054468Z"
    }
   },
   "outputs": [],
   "source": [
    "# Write the decision tree to output_tree.txt\n",
    "with open('output_tree.txt', 'w') as f:\n",
    "    tree_classifier.write_to_file(file=f)\n"
   ]
  },
  {
   "attachments": {},
   "cell_type": "markdown",
   "metadata": {},
   "source": [
    "# run NaiveBayes model"
   ]
  },
  {
   "cell_type": "code",
   "execution_count": 39,
   "metadata": {
    "ExecuteTime": {
     "end_time": "2024-04-17T08:19:07.064227Z",
     "start_time": "2024-04-17T08:19:07.058075Z"
    }
   },
   "outputs": [
    {
     "name": "stdout",
     "output_type": "stream",
     "text": [
      "['no', 'no', 'no', 'no', 'no', 'no', 'no', 'no', 'no', 'no', 'no', 'no', 'no', 'no', 'no', 'yes', 'no', 'yes', 'yes', 'no', 'yes', 'yes', 'no', 'yes']\n",
      "Accuracy: 0.8333333333333334\n"
     ]
    }
   ],
   "source": [
    "# Create NaiveBayes object\n",
    "nb = NaiveBayes()\n",
    "\n",
    "# Fit the model with training data\n",
    "nb.fit(X_train, y_train)\n",
    "\n",
    "# Make predictions on test data\n",
    "predictions_nb = nb.predict(X_test)\n",
    "\n",
    "# Calculate accuracy\n",
    "accuracy_nb = nb.accuracy(predictions_nb, y_test)\n",
    "print(predictions_nb)\n",
    "print(\"Accuracy:\", accuracy_nb)\n"
   ]
  },
  {
   "cell_type": "code",
   "execution_count": 40,
   "metadata": {
    "ExecuteTime": {
     "end_time": "2024-04-17T08:19:07.068164Z",
     "start_time": "2024-04-17T08:19:07.064782Z"
    }
   },
   "outputs": [
    {
     "data": {
      "text/plain": "{'no': 0.6772727272727272, 'yes': 0.32272727272727275}"
     },
     "execution_count": 40,
     "metadata": {},
     "output_type": "execute_result"
    }
   ],
   "source": [
    "nb.class_probs"
   ]
  },
  {
   "cell_type": "code",
   "execution_count": 41,
   "metadata": {
    "ExecuteTime": {
     "end_time": "2024-04-17T08:19:07.072069Z",
     "start_time": "2024-04-17T08:19:07.068698Z"
    }
   },
   "outputs": [
    {
     "data": {
      "text/plain": "{'no': {'pclass': {'1st': 0.08389261744966443,\n   '2nd': 0.11521252796420582,\n   '3rd': 0.34675615212527966,\n   'crew': 0.4541387024608501},\n  'age': {'adult': 0.9664429530201343, 'child': 0.03355704697986577},\n  'sex': {'female': 0.08612975391498881, 'male': 0.9138702460850112}},\n 'yes': {'pclass': {'1st': 0.29107981220657275,\n   '2nd': 0.14788732394366197,\n   '3rd': 0.25821596244131456,\n   'crew': 0.3028169014084507},\n  'age': {'adult': 0.9225352112676056, 'child': 0.07746478873239436},\n  'sex': {'female': 0.4694835680751174, 'male': 0.5305164319248826}}}"
     },
     "execution_count": 41,
     "metadata": {},
     "output_type": "execute_result"
    }
   ],
   "source": [
    "nb.feature_probs"
   ]
  },
  {
   "cell_type": "code",
   "execution_count": 42,
   "metadata": {
    "ExecuteTime": {
     "end_time": "2024-04-17T08:19:07.077033Z",
     "start_time": "2024-04-17T08:19:07.072679Z"
    }
   },
   "outputs": [],
   "source": [
    "with open('output.txt', 'w') as f:\n",
    "    for tree ,nb in zip(predictions_tree,predictions_nb):\n",
    "        f.write(f\"{tree}  {nb}\\n\" )\n",
    "\n",
    "    f.write(f\"{round(accuracy_tree , 3)}  {round(accuracy_nb ,3)}\")"
   ]
  },
  {
   "cell_type": "code",
   "execution_count": 42,
   "metadata": {
    "ExecuteTime": {
     "end_time": "2024-04-17T08:19:07.081173Z",
     "start_time": "2024-04-17T08:19:07.079079Z"
    }
   },
   "outputs": [],
   "source": []
  }
 ],
 "metadata": {
  "kernelspec": {
   "display_name": "base",
   "language": "python",
   "name": "python3"
  },
  "language_info": {
   "codemirror_mode": {
    "name": "ipython",
    "version": 3
   },
   "file_extension": ".py",
   "mimetype": "text/x-python",
   "name": "python",
   "nbconvert_exporter": "python",
   "pygments_lexer": "ipython3",
   "version": "3.9.13"
  },
  "orig_nbformat": 4
 },
 "nbformat": 4,
 "nbformat_minor": 2
}
